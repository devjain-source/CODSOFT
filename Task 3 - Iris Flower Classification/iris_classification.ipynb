{
 "cells": [
  {
   "cell_type": "markdown",
   "id": "441750f7",
   "metadata": {},
   "source": [
    "# 🌸 Task 3: Iris Flower Classification"
   ]
  },
  {
   "cell_type": "markdown",
   "id": "11c58127",
   "metadata": {},
   "source": [
    "**Intern:** Dev Jain  \n",
    "**Batch:** CodSoft Data Science Internship (July 2025)  \n",
    "**Task:** Classify iris flowers into Setosa, Versicolor, or Virginica using ML."
   ]
  },
  {
   "cell_type": "markdown",
   "id": "331b7bf2",
   "metadata": {},
   "source": [
    "## 📥 Step 1: Import Libraries"
   ]
  },
  {
   "cell_type": "code",
   "execution_count": null,
   "id": "175c12e0",
   "metadata": {},
   "outputs": [],
   "source": [
    "import pandas as pd\n",
    "import numpy as np\n",
    "import matplotlib.pyplot as plt\n",
    "import seab as sns\n",
    "\n",
    "from sklearn.model_selection import train_test_split\n",
    "from sklearn.ensemble import RandomForestClassifier\n",
    "from sklearn.metrics import accuracy_score, confusion_matrix, classification_report"
   ]
  },
  {
   "cell_type": "markdown",
   "id": "1e369b9f",
   "metadata": {},
   "source": [
    "## 📊 Step 2: Load the Dataset"
   ]
  },
  {
   "cell_type": "code",
   "execution_count": null,
   "id": "4417c9d8",
   "metadata": {},
   "outputs": [],
   "source": [
    "df = pd.read_csv(\"iris.csv\")\n",
    "df.head()"
   ]
  },
  {
   "cell_type": "markdown",
   "id": "8acfe147",
   "metadata": {},
   "source": [
    "## 📈 Step 3: Exploratory Data Analysis"
   ]
  },
  {
   "cell_type": "code",
   "execution_count": null,
   "id": "008a34c3",
   "metadata": {},
   "outputs": [],
   "source": [
    "df.describe()"
   ]
  },
  {
   "cell_type": "code",
   "execution_count": null,
   "id": "315b1636",
   "metadata": {},
   "outputs": [],
   "source": [
    "sns.pairplot(df, hue='target')\n",
    "plt.show()"
   ]
  },
  {
   "cell_type": "markdown",
   "id": "a664b6c9",
   "metadata": {},
   "source": [
    "## 🧹 Step 4: Data Preprocessing"
   ]
  },
  {
   "cell_type": "code",
   "execution_count": null,
   "id": "07c78138",
   "metadata": {},
   "outputs": [],
   "source": [
    "X = df.drop(\"target\", axis=1)\n",
    "y = df[\"target\"]\n",
    "X_train, X_test, y_train, y_test = train_test_split(X, y, test_size=0.2, random_state=42)"
   ]
  },
  {
   "cell_type": "markdown",
   "id": "6958d1b0",
   "metadata": {},
   "source": [
    "## ✅ Step 5: Model Training (Random Forest)"
   ]
  },
  {
   "cell_type": "code",
   "execution_count": null,
   "id": "f2a2813c",
   "metadata": {},
   "outputs": [],
   "source": [
    "model = RandomForestClassifier(random_state=42)\n",
    "model.fit(X_train, y_train)\n",
    "y_pred = model.predict(X_test)"
   ]
  },
  {
   "cell_type": "markdown",
   "id": "e7cc66a8",
   "metadata": {},
   "source": [
    "## 📊 Step 6: Evaluation"
   ]
  },
  {
   "cell_type": "code",
   "execution_count": null,
   "id": "b22f67f8",
   "metadata": {},
   "outputs": [],
   "source": [
    "acc = accuracy_score(y_test, y_pred)\n",
    "cm = confusion_matrix(y_test, y_pred)\n",
    "print(\"Accuracy:\", acc)\n",
    "print(\"\\nConfusion Matrix:\\n\", cm)\n",
    "print(\"\\nClassification Report:\\n\", classification_report(y_test, y_pred))"
   ]
  },
  {
   "cell_type": "code",
   "execution_count": null,
   "id": "70149825",
   "metadata": {},
   "outputs": [],
   "source": [
    "sns.heatmap(cm, annot=True, fmt='d', cmap='Greens')\n",
    "plt.xlabel(\"Predicted\")\n",
    "plt.ylabel(\"Actual\")\n",
    "plt.title(\"Confusion Matrix\")\n",
    "plt.show()"
   ]
  },
  {
   "cell_type": "markdown",
   "id": "f9705732",
   "metadata": {},
   "source": [
    "## 📌 Conclusion"
   ]
  },
  {
   "cell_type": "markdown",
   "id": "4964b300",
   "metadata": {},
   "source": [
    "The Random Forest classifier performed well in predicting iris flower species using petal and sepal measurements. The model achieved high accuracy, and results can be enhanced further with tuning or other classifiers like KNN or SVM.\n"
   ]
  }
 ],
 "metadata": {},
 "nbformat": 4,
 "nbformat_minor": 5
}
