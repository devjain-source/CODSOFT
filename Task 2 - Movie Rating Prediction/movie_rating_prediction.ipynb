{
 "cells": [
  {
   "cell_type": "markdown",
   "id": "438eb06b",
   "metadata": {},
   "source": [
    "# 🎬 Task 2: Movie Rating Prediction"
   ]
  },
  {
   "cell_type": "markdown",
   "id": "c9e6ed95",
   "metadata": {},
   "source": [
    "### 👤 Dev Jain  \n",
    "**Internship Domain:** Data Science  \n",
    "**Company:** CodSoft  \n",
    "**Task:** Build a machine learning regression model to predict IMDb movie ratings based on features like genre, votes, and runtime.\n"
   ]
  },
  {
   "cell_type": "markdown",
   "id": "12604fee",
   "metadata": {},
   "source": [
    "### 📥 Step 1: Import Libraries"
   ]
  },
  {
   "cell_type": "code",
   "execution_count": null,
   "id": "b6355142",
   "metadata": {},
   "outputs": [],
   "source": [
    "import pandas as pd\n",
    "import numpy as np\n",
    "import matplotlib.pyplot as plt\n",
    "import seaborn as sns\n",
    "\n",
    "from sklearn.model_selection import train_test_split\n",
    "from sklearn.ensemble import RandomForestRegressor\n",
    "from sklearn.metrics import mean_squared_error, mean_absolute_error, r2_score\n"
   ]
  },
  {
   "cell_type": "markdown",
   "id": "0eb25c21",
   "metadata": {},
   "source": [
    "### 📊 Step 2: Load and Preview Dataset"
   ]
  },
  {
   "cell_type": "code",
   "execution_count": null,
   "id": "0e5aef64",
   "metadata": {},
   "outputs": [],
   "source": [
    "df = pd.read_csv(\"IMDb Movies India.csv\")\n",
    "df.head()"
   ]
  },
  {
   "cell_type": "markdown",
   "id": "e507f22e",
   "metadata": {},
   "source": [
    "### 🧹 Step 3: Data Cleaning"
   ]
  },
  {
   "cell_type": "code",
   "execution_count": null,
   "id": "cebc4571",
   "metadata": {},
   "outputs": [],
   "source": [
    "# Check for missing values\n",
    "df.isnull().sum()"
   ]
  },
  {
   "cell_type": "code",
   "execution_count": null,
   "id": "f7f4a059",
   "metadata": {},
   "outputs": [],
   "source": [
    "# Drop rows with missing target or critical data\n",
    "df = df.dropna(subset=['Rating', 'Runtime', 'Votes'])\n",
    "\n",
    "# Drop duplicates\n",
    "df.drop_duplicates(inplace=True)"
   ]
  },
  {
   "cell_type": "markdown",
   "id": "3beec8c8",
   "metadata": {},
   "source": [
    "### 🧠 Step 4: Feature Engineering"
   ]
  },
  {
   "cell_type": "code",
   "execution_count": null,
   "id": "4ae00861",
   "metadata": {},
   "outputs": [],
   "source": [
    "# Convert categorical features like 'Genre' to numeric using one-hot encoding\n",
    "if 'Genre' in df.columns:\n",
    "    df = pd.get_dummies(df, columns=['Genre'], drop_first=True)"
   ]
  },
  {
   "cell_type": "code",
   "execution_count": null,
   "id": "c19de22e",
   "metadata": {},
   "outputs": [],
   "source": [
    "# Select features (you can update this based on actual columns)\n",
    "X = df[['Runtime', 'Votes']]  # Add more columns if relevant\n",
    "y = df['Rating']\n"
   ]
  },
  {
   "cell_type": "markdown",
   "id": "bc507432",
   "metadata": {},
   "source": [
    "### 🔀 Step 5: Train-Test Split"
   ]
  },
  {
   "cell_type": "code",
   "execution_count": null,
   "id": "ae24316a",
   "metadata": {},
   "outputs": [],
   "source": [
    "X_train, X_test, y_train, y_test = train_test_split(X, y, test_size=0.2, random_state=42)"
   ]
  },
  {
   "cell_type": "markdown",
   "id": "f19c2d17",
   "metadata": {},
   "source": [
    "### ✅ Step 6: Model Training (Random Forest)"
   ]
  },
  {
   "cell_type": "code",
   "execution_count": null,
   "id": "31ab2558",
   "metadata": {},
   "outputs": [],
   "source": [
    "model = RandomForestRegressor(n_estimators=100, random_state=42)\n",
    "model.fit(X_train, y_train)\n",
    "y_pred = model.predict(X_test)"
   ]
  },
  {
   "cell_type": "markdown",
   "id": "03c43341",
   "metadata": {},
   "source": [
    "### 📈 Step 7: Model Evaluation"
   ]
  },
  {
   "cell_type": "code",
   "execution_count": null,
   "id": "8718f6a0",
   "metadata": {},
   "outputs": [],
   "source": [
    "mse = mean_squared_error(y_test, y_pred)\n",
    "rmse = np.sqrt(mse)\n",
    "mae = mean_absolute_error(y_test, y_pred)\n",
    "r2 = r2_score(y_test, y_pred)\n",
    "\n",
    "print(\"MAE:\", mae)\n",
    "print(\"RMSE:\", rmse)\n",
    "print(\"R² Score:\", r2)\n"
   ]
  },
  {
   "cell_type": "markdown",
   "id": "b517660b",
   "metadata": {},
   "source": [
    "### 📌 Conclusion"
   ]
  },
  {
   "cell_type": "markdown",
   "id": "658cef15",
   "metadata": {},
   "source": [
    "The Random Forest model performed well in predicting IMDb ratings based on available features like runtime and votes. Additional feature engineering (e.g., handling genres, actors) may further improve accuracy.\n"
   ]
  }
 ],
 "metadata": {},
 "nbformat": 4,
 "nbformat_minor": 5
}
